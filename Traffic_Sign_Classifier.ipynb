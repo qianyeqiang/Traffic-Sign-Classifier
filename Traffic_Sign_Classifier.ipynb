{
 "cells": [
  {
   "cell_type": "markdown",
   "metadata": {},
   "source": [
    "# Self-Driving Car Engineer Nanodegree\n",
    "\n",
    "## Deep Learning\n",
    "\n",
    "## Project: Build a Traffic Sign Recognition Classifier\n",
    "\n",
    "In this notebook, a template is provided for you to implement your functionality in stages, which is required to successfully complete this project. If additional code is required that cannot be included in the notebook, be sure that the Python code is successfully imported and included in your submission if necessary. \n",
    "\n",
    "> **Note**: Once you have completed all of the code implementations, you need to finalize your work by exporting the iPython Notebook as an HTML document. Before exporting the notebook to html, all of the code cells need to have been run so that reviewers can see the final implementation and output. You can then export the notebook by using the menu above and navigating to  \\n\",\n",
    "    \"**File -> Download as -> HTML (.html)**. Include the finished document along with this notebook as your submission. \n",
    "\n",
    "In addition to implementing code, there is a writeup to complete. The writeup should be completed in a separate file, which can be either a markdown file or a pdf document. There is a [write up template](https://github.com/udacity/CarND-Traffic-Sign-Classifier-Project/blob/master/writeup_template.md) that can be used to guide the writing process. Completing the code template and writeup template will cover all of the [rubric points](https://review.udacity.com/#!/rubrics/481/view) for this project.\n",
    "\n",
    "The [rubric](https://review.udacity.com/#!/rubrics/481/view) contains \"Stand Out Suggestions\" for enhancing the project beyond the minimum requirements. The stand out suggestions are optional. If you decide to pursue the \"stand out suggestions\", you can include the code in this Ipython notebook and also discuss the results in the writeup file.\n",
    "\n",
    "\n",
    ">**Note:** Code and Markdown cells can be executed using the **Shift + Enter** keyboard shortcut. In addition, Markdown cells can be edited by typically double-clicking the cell to enter edit mode."
   ]
  },
  {
   "cell_type": "markdown",
   "metadata": {},
   "source": [
    "---\n",
    "## Step 0: Load The Data"
   ]
  },
  {
   "cell_type": "code",
   "execution_count": 1,
   "metadata": {
    "collapsed": true
   },
   "outputs": [],
   "source": [
    "# Load pickled data\n",
    "import pickle\n",
    "\n",
    "# TODO: Fill this in based on where you saved the training and testing data\n",
    "\n",
    "training_file = 'train.p'\n",
    "validation_file= 'valid.p'\n",
    "testing_file = 'test.p'\n",
    "\n",
    "\n",
    "with open(training_file, mode='rb') as f:\n",
    "    train = pickle.load(f)\n",
    "with open(validation_file, mode='rb') as f:\n",
    "    valid = pickle.load(f)\n",
    "with open(testing_file, mode='rb') as f:\n",
    "    test = pickle.load(f)\n",
    "\n",
    "\n",
    "\n",
    "X_train, y_train = train['features'], train['labels']\n",
    "X_valid, y_valid = valid['features'], valid['labels']\n",
    "X_test, y_test = test['features'], test['labels']"
   ]
  },
  {
   "cell_type": "markdown",
   "metadata": {},
   "source": [
    "---\n",
    "\n",
    "## Step 1: Dataset Summary & Exploration\n",
    "\n",
    "The pickled data is a dictionary with 4 key/value pairs:\n",
    "\n",
    "- `'features'` is a 4D array containing raw pixel data of the traffic sign images, (num examples, width, height, channels).\n",
    "- `'labels'` is a 1D array containing the label/class id of the traffic sign. The file `signnames.csv` contains id -> name mappings for each id.\n",
    "- `'sizes'` is a list containing tuples, (width, height) representing the original width and height the image.\n",
    "- `'coords'` is a list containing tuples, (x1, y1, x2, y2) representing coordinates of a bounding box around the sign in the image. **THESE COORDINATES ASSUME THE ORIGINAL IMAGE. THE PICKLED DATA CONTAINS RESIZED VERSIONS (32 by 32) OF THESE IMAGES**\n",
    "\n",
    "Complete the basic data summary below. Use python, numpy and/or pandas methods to calculate the data summary rather than hard coding the results. For example, the [pandas shape method](http://pandas.pydata.org/pandas-docs/stable/generated/pandas.DataFrame.shape.html) might be useful for calculating some of the summary results. "
   ]
  },
  {
   "cell_type": "markdown",
   "metadata": {},
   "source": [
    "### Provide a Basic Summary of the Data Set Using Python, Numpy and/or Pandas"
   ]
  },
  {
   "cell_type": "code",
   "execution_count": 2,
   "metadata": {
    "scrolled": true
   },
   "outputs": [
    {
     "name": "stdout",
     "output_type": "stream",
     "text": [
      "('Number of training examples =', 34799)\n",
      "('Number of validing examples =', 4410)\n",
      "('Number of testing examples =', 12630)\n",
      "('Image data shape =', (32, 32, 3))\n",
      "('Number of classes =', 43)\n"
     ]
    }
   ],
   "source": [
    "### Replace each question mark with the appropriate value. \n",
    "### Use python, pandas or numpy methods rather than hard coding the results\n",
    "\n",
    "# TODO: Number of training examples\n",
    "n_train = len(X_train)\n",
    "\n",
    "# TODO: Number of validation examples\n",
    "n_validation = len(X_valid)\n",
    "\n",
    "# TODO: Number of testing examples.\n",
    "n_test = len(X_test)\n",
    "\n",
    "# TODO: What's the shape of an traffic sign image?\n",
    "image_shape = X_train[0].shape\n",
    "\n",
    "# TODO: How many unique classes/labels there are in the dataset.\n",
    "n_classes = 43\n",
    "\n",
    "print(\"Number of training examples =\", n_train)\n",
    "print(\"Number of validing examples =\", n_validation)\n",
    "print(\"Number of testing examples =\", n_test)\n",
    "print(\"Image data shape =\", image_shape)\n",
    "print(\"Number of classes =\", n_classes)"
   ]
  },
  {
   "cell_type": "markdown",
   "metadata": {},
   "source": [
    "### Include an exploratory visualization of the dataset"
   ]
  },
  {
   "cell_type": "markdown",
   "metadata": {},
   "source": [
    "Visualize the German Traffic Signs Dataset using the pickled file(s). This is open ended, suggestions include: plotting traffic sign images, plotting the count of each sign, etc. \n",
    "\n",
    "The [Matplotlib](http://matplotlib.org/) [examples](http://matplotlib.org/examples/index.html) and [gallery](http://matplotlib.org/gallery.html) pages are a great resource for doing visualizations in Python.\n",
    "\n",
    "**NOTE:** It's recommended you start with something simple first. If you wish to do more, come back to it after you've completed the rest of the sections. It can be interesting to look at the distribution of classes in the training, validation and test set. Is the distribution the same? Are there more examples of some classes than others?"
   ]
  },
  {
   "cell_type": "code",
   "execution_count": 3,
   "metadata": {},
   "outputs": [
    {
     "name": "stdout",
     "output_type": "stream",
     "text": [
      "Updated Image Shape: (32, 32, 3)\n",
      "9\n"
     ]
    },
    {
     "data": {
      "image/png": "[encoded data removed]",
      "text/plain": [
       "<matplotlib.figure.Figure at 0x7f80f4a3bf50>"
      ]
     },
     "metadata": {},
     "output_type": "display_data"
    }
   ],
   "source": [
    "import numpy as np\n",
    "\n",
    "#Pad images with 0s\n",
    "# X_train      = np.pad(X_train, ((0,0),(2,2),(2,2),(0,0)), 'constant')\n",
    "# X_validation = np.pad(X_valid, ((0,0),(2,2),(2,2),(0,0)), 'constant')\n",
    "# X_test       = np.pad(X_test, ((0,0),(2,2),(2,2),(0,0)), 'constant')\n",
    "    \n",
    "print(\"Updated Image Shape: {}\".format(X_train[0].shape))\n",
    "\n",
    "import random\n",
    "import numpy as np\n",
    "import matplotlib.pyplot as plt\n",
    "%matplotlib inline\n",
    "\n",
    "index = random.randint(0, len(X_train))\n",
    "image = X_train[index].squeeze()\n",
    "plt.figure(figsize=(1,1))\n",
    "plt.imshow(image)\n",
    "print(y_train[index])"
   ]
  },
  {
   "cell_type": "markdown",
   "metadata": {},
   "source": [
    "----\n",
    "\n",
    "## Step 2: Design and Test a Model Architecture\n",
    "\n",
    "Design and implement a deep learning model that learns to recognize traffic signs. Train and test your model on the [German Traffic Sign Dataset](http://benchmark.ini.rub.de/?section=gtsrb&subsection=dataset).\n",
    "\n",
    "The LeNet-5 implementation shown in the [classroom](https://classroom.udacity.com/nanodegrees/nd013/parts/fbf77062-5703-404e-b60c-95b78b2f3f9e/modules/6df7ae49-c61c-4bb2-a23e-6527e69209ec/lessons/601ae704-1035-4287-8b11-e2c2716217ad/concepts/d4aca031-508f-4e0b-b493-e7b706120f81) at the end of the CNN lesson is a solid starting point. You'll have to change the number of classes and possibly the preprocessing, but aside from that it's plug and play! \n",
    "\n",
    "With the LeNet-5 solution from the lecture, you should expect a validation set accuracy of about 0.89. To meet specifications, the validation set accuracy will need to be at least 0.93. It is possible to get an even higher accuracy, but 0.93 is the minimum for a successful project submission. \n",
    "\n",
    "There are various aspects to consider when thinking about this problem:\n",
    "\n",
    "- Neural network architecture (is the network over or underfitting?)\n",
    "- Play around preprocessing techniques (normalization, rgb to grayscale, etc)\n",
    "- Number of examples per label (some have more than others).\n",
    "- Generate fake data.\n",
    "\n",
    "Here is an example of a [published baseline model on this problem](http://yann.lecun.com/exdb/publis/pdf/sermanet-ijcnn-11.pdf). It's not required to be familiar with the approach used in the paper but, it's good practice to try to read papers like these."
   ]
  },
  {
   "cell_type": "markdown",
   "metadata": {},
   "source": [
    "### Pre-process the Data Set (normalization, grayscale, etc.)"
   ]
  },
  {
   "cell_type": "markdown",
   "metadata": {},
   "source": [
    "Minimally, the image data should be normalized so that the data has mean zero and equal variance. For image data, `(pixel - 128)/ 128` is a quick way to approximately normalize the data and can be used in this project. \n",
    "\n",
    "Other pre-processing steps are optional. You can try different techniques to see if it improves performance. \n",
    "\n",
    "Use the code cell (or multiple code cells, if necessary) to implement the first step of your project."
   ]
  },
  {
   "cell_type": "code",
   "execution_count": 4,
   "metadata": {
    "collapsed": true
   },
   "outputs": [],
   "source": [
    "from sklearn.utils import shuffle\n",
    "\n",
    "X_train, y_train = shuffle(X_train, y_train)\n",
    "\n",
    "import tensorflow as tf\n",
    "\n",
    "EPOCHS = 80\n",
    "BATCH_SIZE = 128"
   ]
  },
  {
   "cell_type": "markdown",
   "metadata": {},
   "source": [
    "### Model Architecture"
   ]
  },
  {
   "cell_type": "code",
   "execution_count": 5,
   "metadata": {
    "collapsed": true
   },
   "outputs": [],
   "source": [
    "from tensorflow.contrib.layers import flatten\n",
    "\n",
    "def LeNet(x):    \n",
    "    # Arguments used for tf.truncated_normal, randomly defines variables for the weights and biases for each layer\n",
    "    mu = 0\n",
    "    sigma = 0.1\n",
    "    \n",
    "    # SOLUTION: Layer 1: Convolutional. Input = 32x32x1. Output = 28x28x6.\n",
    "    conv1_W = tf.Variable(tf.truncated_normal(shape=(5, 5, 3, 6), mean = mu, stddev = sigma))\n",
    "    conv1_b = tf.Variable(tf.zeros(6))\n",
    "    conv1   = tf.nn.conv2d(x, conv1_W, strides=[1, 1, 1, 1], padding='VALID') + conv1_b\n",
    "\n",
    "    # SOLUTION: Activation.\n",
    "    conv1 = tf.nn.relu(conv1)\n",
    "\n",
    "    # SOLUTION: Pooling. Input = 28x28x6. Output = 14x14x6.\n",
    "    conv1 = tf.nn.max_pool(conv1, ksize=[1, 2, 2, 1], strides=[1, 2, 2, 1], padding='VALID')\n",
    "\n",
    "    # SOLUTION: Layer 2: Convolutional. Output = 10x10x16.\n",
    "    conv2_W = tf.Variable(tf.truncated_normal(shape=(5, 5, 6, 16), mean = mu, stddev = sigma))\n",
    "    conv2_b = tf.Variable(tf.zeros(16))\n",
    "    conv2   = tf.nn.conv2d(conv1, conv2_W, strides=[1, 1, 1, 1], padding='VALID') + conv2_b\n",
    "    \n",
    "    # SOLUTION: Activation.\n",
    "    conv2 = tf.nn.relu(conv2)\n",
    "\n",
    "    # SOLUTION: Pooling. Input = 10x10x16. Output = 5x5x16.\n",
    "    conv2 = tf.nn.max_pool(conv2, ksize=[1, 2, 2, 1], strides=[1, 2, 2, 1], padding='VALID')\n",
    "    \n",
    "    \n",
    "    # SOLUTION: Layer 3: Convolutional. Output = 4x4x16.\n",
    "    conv3_W = tf.Variable(tf.truncated_normal(shape=(2, 2, 16, 16), mean = mu, stddev = sigma))\n",
    "    conv3_b = tf.Variable(tf.zeros(16))\n",
    "    conv3   = tf.nn.conv2d(conv2, conv3_W, strides=[1, 1, 1, 1], padding='VALID') + conv3_b\n",
    "    \n",
    "    # SOLUTION: Activation.\n",
    "    conv3 = tf.nn.relu(conv3)\n",
    "\n",
    "    # SOLUTION: Pooling. Input = 4x4x16. Output = 2x2x16.\n",
    "    #conv3 = tf.nn.max_pool(conv3, ksize=[1, 2, 2, 1], strides=[1, 2, 2, 1], padding='VALID')\n",
    "\n",
    "    # SOLUTION: Flatten. Input = 4x4x16. Output = 256.\n",
    "    fc0   = flatten(conv3)\n",
    "    \n",
    "    # SOLUTION: Layer 3: Fully Connected. Input = 256. Output = 120.\n",
    "    fc1_W = tf.Variable(tf.truncated_normal(shape=(256, 120), mean = mu, stddev = sigma))\n",
    "    fc1_b = tf.Variable(tf.zeros(120))\n",
    "    fc1   = tf.matmul(fc0, fc1_W) + fc1_b\n",
    "    \n",
    "    # SOLUTION: Activation.\n",
    "    fc1    = tf.nn.relu(fc1)\n",
    "\n",
    "    # SOLUTION: Layer 4: Fully Connected. Input = 120. Output = 84.\n",
    "    fc2_W  = tf.Variable(tf.truncated_normal(shape=(120, 84), mean = mu, stddev = sigma))\n",
    "    fc2_b  = tf.Variable(tf.zeros(84))\n",
    "    fc2    = tf.matmul(fc1, fc2_W) + fc2_b\n",
    "    \n",
    "    # SOLUTION: Activation.\n",
    "    fc2    = tf.nn.relu(fc2)\n",
    "\n",
    "    # SOLUTION: Layer 5: Fully Connected. Input = 84. Output = 10.\n",
    "    fc3_W  = tf.Variable(tf.truncated_normal(shape=(84, 43), mean = mu, stddev = sigma))\n",
    "    fc3_b  = tf.Variable(tf.zeros(43))\n",
    "    logits = tf.matmul(fc2, fc3_W) + fc3_b\n",
    "    \n",
    "    return logits"
   ]
  },
  {
   "cell_type": "markdown",
   "metadata": {},
   "source": [
    "### Train, Validate and Test the Model"
   ]
  },
  {
   "cell_type": "markdown",
   "metadata": {},
   "source": [
    "A validation set can be used to assess how well the model is performing. A low accuracy on the training and validation\n",
    "sets imply underfitting. A high accuracy on the training set but low accuracy on the validation set implies overfitting."
   ]
  },
  {
   "cell_type": "code",
   "execution_count": 6,
   "metadata": {
    "scrolled": false
   },
   "outputs": [
    {
     "name": "stdout",
     "output_type": "stream",
     "text": [
      "Training...\n",
      "()\n",
      "EPOCH 1 ...\n",
      "Validation Accuracy = 0.669\n",
      "()\n",
      "EPOCH 2 ...\n",
      "Validation Accuracy = 0.761\n",
      "()\n",
      "EPOCH 3 ...\n",
      "Validation Accuracy = 0.786\n",
      "()\n",
      "EPOCH 4 ...\n",
      "Validation Accuracy = 0.820\n",
      "()\n",
      "EPOCH 5 ...\n",
      "Validation Accuracy = 0.838\n",
      "()\n",
      "EPOCH 6 ...\n",
      "Validation Accuracy = 0.852\n",
      "()\n",
      "EPOCH 7 ...\n",
      "Validation Accuracy = 0.873\n",
      "()\n",
      "EPOCH 8 ...\n",
      "Validation Accuracy = 0.869\n",
      "()\n",
      "EPOCH 9 ...\n",
      "Validation Accuracy = 0.865\n",
      "()\n",
      "EPOCH 10 ...\n",
      "Validation Accuracy = 0.863\n",
      "()\n",
      "EPOCH 11 ...\n",
      "Validation Accuracy = 0.891\n",
      "()\n",
      "EPOCH 12 ...\n",
      "Validation Accuracy = 0.876\n",
      "()\n",
      "EPOCH 13 ...\n",
      "Validation Accuracy = 0.872\n",
      "()\n",
      "EPOCH 14 ...\n",
      "Validation Accuracy = 0.877\n",
      "()\n",
      "EPOCH 15 ...\n",
      "Validation Accuracy = 0.885\n",
      "()\n",
      "EPOCH 16 ...\n",
      "Validation Accuracy = 0.888\n",
      "()\n",
      "EPOCH 17 ...\n",
      "Validation Accuracy = 0.888\n",
      "()\n",
      "EPOCH 18 ...\n",
      "Validation Accuracy = 0.883\n",
      "()\n",
      "EPOCH 19 ...\n",
      "Validation Accuracy = 0.901\n",
      "()\n",
      "EPOCH 20 ...\n",
      "Validation Accuracy = 0.881\n",
      "()\n",
      "EPOCH 21 ...\n",
      "Validation Accuracy = 0.891\n",
      "()\n",
      "EPOCH 22 ...\n",
      "Validation Accuracy = 0.889\n",
      "()\n",
      "EPOCH 23 ...\n",
      "Validation Accuracy = 0.896\n",
      "()\n",
      "EPOCH 24 ...\n",
      "Validation Accuracy = 0.888\n",
      "()\n",
      "EPOCH 25 ...\n",
      "Validation Accuracy = 0.892\n",
      "()\n",
      "EPOCH 26 ...\n",
      "Validation Accuracy = 0.894\n",
      "()\n",
      "EPOCH 27 ...\n",
      "Validation Accuracy = 0.901\n",
      "()\n",
      "EPOCH 28 ...\n",
      "Validation Accuracy = 0.890\n",
      "()\n",
      "EPOCH 29 ...\n",
      "Validation Accuracy = 0.898\n",
      "()\n",
      "EPOCH 30 ...\n",
      "Validation Accuracy = 0.911\n",
      "()\n",
      "EPOCH 31 ...\n",
      "Validation Accuracy = 0.900\n",
      "()\n",
      "EPOCH 32 ...\n",
      "Validation Accuracy = 0.884\n",
      "()\n",
      "EPOCH 33 ...\n",
      "Validation Accuracy = 0.889\n",
      "()\n",
      "EPOCH 34 ...\n",
      "Validation Accuracy = 0.900\n",
      "()\n",
      "EPOCH 35 ...\n",
      "Validation Accuracy = 0.901\n",
      "()\n",
      "EPOCH 36 ...\n",
      "Validation Accuracy = 0.899\n",
      "()\n",
      "EPOCH 37 ...\n",
      "Validation Accuracy = 0.881\n",
      "()\n",
      "EPOCH 38 ...\n",
      "Validation Accuracy = 0.904\n",
      "()\n",
      "EPOCH 39 ...\n",
      "Validation Accuracy = 0.920\n",
      "()\n",
      "EPOCH 40 ...\n",
      "Validation Accuracy = 0.912\n",
      "()\n",
      "EPOCH 41 ...\n",
      "Validation Accuracy = 0.908\n",
      "()\n",
      "EPOCH 42 ...\n",
      "Validation Accuracy = 0.915\n",
      "()\n",
      "EPOCH 43 ...\n",
      "Validation Accuracy = 0.909\n",
      "()\n",
      "EPOCH 44 ...\n",
      "Validation Accuracy = 0.874\n",
      "()\n",
      "EPOCH 45 ...\n",
      "Validation Accuracy = 0.912\n",
      "()\n",
      "EPOCH 46 ...\n",
      "Validation Accuracy = 0.915\n",
      "()\n",
      "EPOCH 47 ...\n",
      "Validation Accuracy = 0.895\n",
      "()\n",
      "EPOCH 48 ...\n",
      "Validation Accuracy = 0.919\n",
      "()\n",
      "EPOCH 49 ...\n",
      "Validation Accuracy = 0.914\n",
      "()\n",
      "EPOCH 50 ...\n",
      "Validation Accuracy = 0.898\n",
      "()\n",
      "EPOCH 51 ...\n",
      "Validation Accuracy = 0.904\n",
      "()\n",
      "EPOCH 52 ...\n",
      "Validation Accuracy = 0.922\n",
      "()\n",
      "EPOCH 53 ...\n",
      "Validation Accuracy = 0.895\n",
      "()\n",
      "EPOCH 54 ...\n",
      "Validation Accuracy = 0.912\n",
      "()\n",
      "EPOCH 55 ...\n",
      "Validation Accuracy = 0.910\n",
      "()\n",
      "EPOCH 56 ...\n",
      "Validation Accuracy = 0.915\n",
      "()\n",
      "EPOCH 57 ...\n",
      "Validation Accuracy = 0.910\n",
      "()\n",
      "EPOCH 58 ...\n",
      "Validation Accuracy = 0.909\n",
      "()\n",
      "EPOCH 59 ...\n",
      "Validation Accuracy = 0.902\n",
      "()\n",
      "EPOCH 60 ...\n",
      "Validation Accuracy = 0.917\n",
      "()\n",
      "EPOCH 61 ...\n",
      "Validation Accuracy = 0.909\n",
      "()\n",
      "EPOCH 62 ...\n",
      "Validation Accuracy = 0.903\n",
      "()\n",
      "EPOCH 63 ...\n",
      "Validation Accuracy = 0.924\n",
      "()\n",
      "EPOCH 64 ...\n",
      "Validation Accuracy = 0.898\n",
      "()\n",
      "EPOCH 65 ...\n",
      "Validation Accuracy = 0.917\n",
      "()\n",
      "EPOCH 66 ...\n",
      "Validation Accuracy = 0.920\n",
      "()\n",
      "EPOCH 67 ...\n",
      "Validation Accuracy = 0.911\n",
      "()\n",
      "EPOCH 68 ...\n",
      "Validation Accuracy = 0.905\n",
      "()\n",
      "EPOCH 69 ...\n",
      "Validation Accuracy = 0.913\n",
      "()\n",
      "EPOCH 70 ...\n",
      "Validation Accuracy = 0.911\n",
      "()\n",
      "EPOCH 71 ...\n",
      "Validation Accuracy = 0.903\n",
      "()\n",
      "EPOCH 72 ...\n",
      "Validation Accuracy = 0.898\n",
      "()\n",
      "EPOCH 73 ...\n",
      "Validation Accuracy = 0.901\n",
      "()\n",
      "EPOCH 74 ...\n",
      "Validation Accuracy = 0.904\n",
      "()\n",
      "EPOCH 75 ...\n",
      "Validation Accuracy = 0.897\n",
      "()\n",
      "EPOCH 76 ...\n",
      "Validation Accuracy = 0.900\n",
      "()\n",
      "EPOCH 77 ...\n",
      "Validation Accuracy = 0.921\n",
      "()\n",
      "EPOCH 78 ...\n",
      "Validation Accuracy = 0.915\n",
      "()\n",
      "EPOCH 79 ...\n",
      "Validation Accuracy = 0.909\n",
      "()\n",
      "EPOCH 80 ...\n",
      "Validation Accuracy = 0.910\n",
      "()\n",
      "Model saved\n"
     ]
    }
   ],
   "source": [
    "x = tf.placeholder(tf.float32, (None, 32, 32, 3))\n",
    "y = tf.placeholder(tf.int32, (None))\n",
    "one_hot_y = tf.one_hot(y, 43)\n",
    "\n",
    "rate = 0.001\n",
    "\n",
    "logits = LeNet(x)\n",
    "output_softmax =  tf.nn.softmax(logits)\n",
    "cross_entropy = tf.nn.softmax_cross_entropy_with_logits(labels=one_hot_y, logits=logits)\n",
    "loss_operation = tf.reduce_mean(cross_entropy)\n",
    "optimizer = tf.train.AdamOptimizer(learning_rate = rate)\n",
    "training_operation = optimizer.minimize(loss_operation)\n",
    "\n",
    "\n",
    "correct_prediction = tf.equal(tf.argmax(logits, 1), tf.argmax(one_hot_y, 1))\n",
    "accuracy_operation = tf.reduce_mean(tf.cast(correct_prediction, tf.float32))\n",
    "saver = tf.train.Saver()\n",
    "\n",
    "def evaluate(X_data, y_data):\n",
    "    num_examples = len(X_data)\n",
    "    total_accuracy = 0\n",
    "    sess = tf.get_default_session()\n",
    "    for offset in range(0, num_examples, BATCH_SIZE):\n",
    "        batch_x, batch_y = X_data[offset:offset+BATCH_SIZE], y_data[offset:offset+BATCH_SIZE]\n",
    "        accuracy = sess.run(accuracy_operation, feed_dict={x: batch_x, y: batch_y})\n",
    "        total_accuracy += (accuracy * len(batch_x))\n",
    "    return total_accuracy / num_examples\n",
    "\n",
    "with tf.Session() as sess:\n",
    "    sess.run(tf.global_variables_initializer())\n",
    "    num_examples = len(X_train)\n",
    "    \n",
    "    print(\"Training...\")\n",
    "    print()\n",
    "    for i in range(EPOCHS):\n",
    "        X_train, y_train = shuffle(X_train, y_train)\n",
    "        for offset in range(0, num_examples, BATCH_SIZE):\n",
    "            end = offset + BATCH_SIZE\n",
    "            batch_x, batch_y = X_train[offset:end], y_train[offset:end]\n",
    "            sess.run(training_operation, feed_dict={x: batch_x, y: batch_y})\n",
    "            \n",
    "        validation_accuracy = evaluate(X_valid, y_valid)\n",
    "        print(\"EPOCH {} ...\".format(i+1))\n",
    "        print(\"Validation Accuracy = {:.3f}\".format(validation_accuracy))\n",
    "        print()\n",
    "        \n",
    "    saver.save(sess, './lenet')\n",
    "    print(\"Model saved\")"
   ]
  },
  {
   "cell_type": "markdown",
   "metadata": {},
   "source": [
    "## Evaluate the Model\n",
    "Once you are completely satisfied with your model, evaluate the performance of the model on the test set.\n",
    "\n",
    "Be sure to only do this once!\n",
    "\n",
    "If you were to measure the performance of your trained model on the test set, then improve your model, and then measure the performance of your model on the test set again, that would invalidate your test results. You wouldn't get a true measure of how well your model would perform against real data.\n",
    "\n",
    "You do not need to modify this section."
   ]
  },
  {
   "cell_type": "code",
   "execution_count": 7,
   "metadata": {},
   "outputs": [
    {
     "name": "stdout",
     "output_type": "stream",
     "text": [
      "Test Accuracy = 0.888\n"
     ]
    }
   ],
   "source": [
    "with tf.Session() as sess:\n",
    "    saver.restore(sess, tf.train.latest_checkpoint('.'))\n",
    "\n",
    "    test_accuracy = evaluate(X_test, y_test)\n",
    "    print(\"Test Accuracy = {:.3f}\".format(test_accuracy))"
   ]
  },
  {
   "cell_type": "markdown",
   "metadata": {},
   "source": [
    "\n",
    "## Step 3: Test a Model on New Images\n",
    "\n",
    "To give yourself more insight into how your model is working, download at least five pictures of German traffic signs from the web and use your model to predict the traffic sign type.\n",
    "\n",
    "You may find `signnames.csv` useful as it contains mappings from the class id (integer) to the actual sign name."
   ]
  },
  {
   "cell_type": "markdown",
   "metadata": {},
   "source": [
    "### Load and Output the Images"
   ]
  },
  {
   "cell_type": "code",
   "execution_count": 8,
   "metadata": {},
   "outputs": [
    {
     "data": {
      "text/plain": [
       "<matplotlib.image.AxesImage at 0x7f80e88f27d0>"
      ]
     },
     "execution_count": 8,
     "metadata": {},
     "output_type": "execute_result"
    },
    {
     "data": {
      "image/png": "[encoded data removed]",
      "text/plain": [
       "<matplotlib.figure.Figure at 0x7f8128b27a10>"
      ]
     },
     "metadata": {},
     "output_type": "display_data"
    }
   ],
   "source": [
    "import random\n",
    "import numpy as np\n",
    "import matplotlib.pyplot as plt\n",
    "%matplotlib inline\n",
    "from PIL import Image\n",
    "from skimage import transform,data\n",
    "\n",
    "\n",
    "aaa=Image.open('aaa.jpg')\n",
    "bbb=Image.open('bbb.jpg')\n",
    "ccc=Image.open('ccc.jpg')\n",
    "ddd=Image.open('ddd.jpg')\n",
    "eee=Image.open('eee.jpg')\n",
    "\n",
    "aaa = np.array(aaa.resize((32, 32),Image.ANTIALIAS))\n",
    "bbb = np.array(bbb.resize((32, 32),Image.ANTIALIAS))\n",
    "ccc = np.array(ccc.resize((32, 32),Image.ANTIALIAS))\n",
    "ddd = np.array(ddd.resize((32, 32),Image.ANTIALIAS))\n",
    "eee = np.array(eee.resize((32, 32),Image.ANTIALIAS))\n",
    "\n",
    "# index = random.randint(0, len(X_train))\n",
    "# image = X_train[index].squeeze()\n",
    "#ima = np.concatenate((aaa,bbb,ccc,ddd,eee))\n",
    "iamge=[]\n",
    "iamge.append(aaa)\n",
    "iamge.append(bbb)\n",
    "iamge.append(ccc)\n",
    "iamge.append(ddd)\n",
    "iamge.append(eee)\n",
    "\n",
    "iamge = np.array(iamge)\n",
    "plt.subplot(151)\n",
    "plt.imshow(iamge[0])\n",
    "plt.subplot(152)\n",
    "plt.imshow(iamge[1])\n",
    "plt.subplot(153)\n",
    "plt.imshow(iamge[2])\n",
    "plt.subplot(154)\n",
    "plt.imshow(iamge[3])\n",
    "plt.subplot(155)\n",
    "plt.imshow(iamge[4])\n",
    "\n",
    "    \n"
   ]
  },
  {
   "cell_type": "markdown",
   "metadata": {},
   "source": [
    "### Predict the Sign Type for Each Image"
   ]
  },
  {
   "cell_type": "code",
   "execution_count": 9,
   "metadata": {},
   "outputs": [
    {
     "name": "stdout",
     "output_type": "stream",
     "text": [
      "ClassId,SignName\n",
      "\n",
      "13,Yield\n",
      "\n",
      "1,Speed limit (30km/h)\n",
      "\n",
      "11,Right-of-way at the next intersection\n",
      "\n",
      "2,Speed limit (50km/h)\n",
      "\n",
      "3,Speed limit (60km/h)\n",
      "\n"
     ]
    }
   ],
   "source": [
    "import numpy as np\n",
    "\n",
    "f =open(\"signnames.csv\")\n",
    "lines = f.readlines()\n",
    "print lines[0]\n",
    "\n",
    "with tf.Session() as sess:\n",
    "    saver.restore(sess, tf.train.latest_checkpoint('.'))\n",
    "\n",
    "    result = sess.run(output_softmax, feed_dict={x: iamge})\n",
    "    sign = tf.argmax(result, 1)\n",
    "    for i in range(5):\n",
    "        print lines[sess.run(sign[i])+1]"
   ]
  },
  {
   "cell_type": "markdown",
   "metadata": {},
   "source": [
    "### Analyze Performance"
   ]
  },
  {
   "cell_type": "code",
   "execution_count": 10,
   "metadata": {},
   "outputs": [
    {
     "name": "stdout",
     "output_type": "stream",
     "text": [
      "0.8\n"
     ]
    }
   ],
   "source": [
    "# correct_prediction = tf.equal(tf.argmax(logits, 1), tf.argmax(one_hot_y, 1))\n",
    "# accuracy_operation = tf.reduce_mean(tf.cast(correct_prediction, tf.float32))\n",
    "correct_prediction_new = (True,True,True,True,False)\n",
    "accuracy_operation_new = tf.reduce_mean(tf.cast(correct_prediction_new, tf.float32))\n",
    "with tf.Session() as sess:\n",
    "    print sess.run(accuracy_operation_new)"
   ]
  },
  {
   "cell_type": "markdown",
   "metadata": {},
   "source": [
    "### Output Top 5 Softmax Probabilities For Each Image Found on the Web\n",
    "\n",
    "For each of the new images, print out the model's softmax probabilities to show the **certainty** of the model's predictions (limit the output to the top 5 probabilities for each image). [`tf.nn.top_k`](https://www.tensorflow.org/versions/r0.12/api_docs/python/nn.html#top_k) could prove helpful here. \n",
    "\n",
    "The example below demonstrates how tf.nn.top_k can be used to find the top k predictions for each image.\n",
    "\n",
    "`tf.nn.top_k` will return the values and indices (class ids) of the top k predictions. So if k=3, for each sign, it'll return the 3 largest probabilities (out of a possible 43) and the correspoding class ids.\n",
    "\n",
    "Take this numpy array as an example. The values in the array represent predictions. The array contains softmax probabilities for five candidate images with six possible classes. `tk.nn.top_k` is used to choose the three classes with the highest probability:\n",
    "\n",
    "```\n",
    "# (5, 6) array\n",
    "a = np.array([[ 0.24879643,  0.07032244,  0.12641572,  0.34763842,  0.07893497,\n",
    "         0.12789202],\n",
    "       [ 0.28086119,  0.27569815,  0.08594638,  0.0178669 ,  0.18063401,\n",
    "         0.15899337],\n",
    "       [ 0.26076848,  0.23664738,  0.08020603,  0.07001922,  0.1134371 ,\n",
    "         0.23892179],\n",
    "       [ 0.11943333,  0.29198961,  0.02605103,  0.26234032,  0.1351348 ,\n",
    "         0.16505091],\n",
    "       [ 0.09561176,  0.34396535,  0.0643941 ,  0.16240774,  0.24206137,\n",
    "         0.09155967]])\n",
    "```\n",
    "\n",
    "Running it through `sess.run(tf.nn.top_k(tf.constant(a), k=3))` produces:\n",
    "\n",
    "```\n",
    "TopKV2(values=array([[ 0.34763842,  0.24879643,  0.12789202],\n",
    "       [ 0.28086119,  0.27569815,  0.18063401],\n",
    "       [ 0.26076848,  0.23892179,  0.23664738],\n",
    "       [ 0.29198961,  0.26234032,  0.16505091],\n",
    "       [ 0.34396535,  0.24206137,  0.16240774]]), indices=array([[3, 0, 5],\n",
    "       [0, 1, 4],\n",
    "       [0, 5, 1],\n",
    "       [1, 3, 5],\n",
    "       [1, 4, 3]], dtype=int32))\n",
    "```\n",
    "\n",
    "Looking just at the first row we get `[ 0.34763842,  0.24879643,  0.12789202]`, you can confirm these are the 3 largest probabilities in `a`. You'll also notice `[3, 0, 5]` are the corresponding indices.\n"
   ]
  },
  {
   "cell_type": "code",
   "execution_count": 11,
   "metadata": {},
   "outputs": [
    {
     "name": "stdout",
     "output_type": "stream",
     "text": [
      "TopKV2(values=array([[  1.00000000e+00,   4.00655759e-10,   7.91193500e-12,\n",
      "          1.50712638e-17,   3.45339464e-21],\n",
      "       [  1.00000000e+00,   2.53168949e-14,   3.57067239e-24,\n",
      "          3.61388860e-26,   8.11912185e-32],\n",
      "       [  1.00000000e+00,   4.24941327e-08,   3.92757993e-29,\n",
      "          4.32119284e-30,   2.10040410e-31],\n",
      "       [  8.98435593e-01,   9.27608907e-02,   8.80345143e-03,\n",
      "          2.76718491e-16,   9.96930714e-17],\n",
      "       [  9.99975681e-01,   2.20101647e-05,   2.20141851e-06,\n",
      "          4.05767286e-09,   8.64703253e-10]], dtype=float32), indices=array([[13, 35,  3,  9, 22],\n",
      "       [ 1,  0,  2,  4,  6],\n",
      "       [11, 19, 28, 23, 21],\n",
      "       [ 2,  4,  1,  0,  7],\n",
      "       [ 3, 35, 34,  9, 25]], dtype=int32))\n"
     ]
    }
   ],
   "source": [
    "with tf.Session() as sess:\n",
    "    top5 = sess.run(tf.nn.top_k(tf.constant(result), k=5))\n",
    "    print top5"
   ]
  }
 ],
 "metadata": {
  "anaconda-cloud": {},
  "kernelspec": {
   "display_name": "Python 2",
   "language": "python",
   "name": "python2"
  },
  "language_info": {
   "codemirror_mode": {
    "name": "ipython",
    "version": 2
   },
   "file_extension": ".py",
   "mimetype": "text/x-python",
   "name": "python",
   "nbconvert_exporter": "python",
   "pygments_lexer": "ipython2",
   "version": "2.7.6"
  }
 },
 "nbformat": 4,
 "nbformat_minor": 1
}
